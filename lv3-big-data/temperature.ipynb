{
 "cells": [
  {
   "cell_type": "code",
   "execution_count": 26,
   "id": "a1cfb0d5",
   "metadata": {},
   "outputs": [],
   "source": [
    "def read_data(filename):\n",
    "\n",
    "    date = []\n",
    "    temp = []\n",
    "\n",
    "    with open(filename, 'r') as f:\n",
    "\n",
    "        lines = f.readlines()[19:]\n",
    "\n",
    "        for line in lines:\n",
    "            date.append(line.split(',')[2])\n",
    "            temp.append(int(line.split(',')[3]))\n",
    "    \n",
    "    return [date, temp]"
   ]
  },
  {
   "cell_type": "code",
   "execution_count": 27,
   "id": "b14c10ef",
   "metadata": {},
   "outputs": [],
   "source": [
    "max_dates, max_temps = read_data('DeBiltTempMaxOLD.txt')\n",
    "min_dates, min_temps = read_data('DeBiltTempMinOLD.txt')"
   ]
  },
  {
   "cell_type": "code",
   "execution_count": 45,
   "id": "3d8ed5fc",
   "metadata": {},
   "outputs": [],
   "source": [
    "def min_fct(ls):\n",
    "    min_ls = ls[0]\n",
    "    for i in range(1, len(ls)):\n",
    "        if ls[i] < min_ls:\n",
    "            min_ls = ls[i]\n",
    "    return min_ls\n",
    "\n",
    "def max_fct(ls):\n",
    "    max_ls = ls[0]\n",
    "    for i in range(1, len(ls)):\n",
    "        if ls[i] > max_ls:\n",
    "            max_ls = ls[i]\n",
    "    return max_ls"
   ]
  },
  {
   "cell_type": "code",
   "execution_count": 52,
   "id": "aa599697",
   "metadata": {},
   "outputs": [],
   "source": [
    "def get_highest_temp(max_dates, max_temps):\n",
    "    return [max_dates[max_temps.index(max_fct(max_temps))], max_fct(max_temps)]\n",
    "\n",
    "def get_lowest_temp(min_dates, min_temps):\n",
    "    return [min_dates[min_temps.index(min_fct(min_temps))], min_fct(min_temps)]"
   ]
  },
  {
   "cell_type": "code",
   "execution_count": 53,
   "id": "07fb39ca",
   "metadata": {},
   "outputs": [],
   "source": [
    "highest_temp_date, highest_temp = get_highest_temp(max_dates, max_temps)\n",
    "lowest_temp_date, lowest_temp = get_lowest_temp(min_dates, min_temps)"
   ]
  },
  {
   "cell_type": "code",
   "execution_count": 62,
   "id": "1f0be05e",
   "metadata": {},
   "outputs": [],
   "source": [
    "def longest_streak(lst):\n",
    "    # initialize variables to keep track of the current and longest streaks\n",
    "    current_streak = 0\n",
    "    longest_streak = 0\n",
    "    longest_streak_index = 0\n",
    "\n",
    "    # iterate through the list\n",
    "    for i, num in enumerate(lst):\n",
    "        # if the current number is negative, increment the current streak\n",
    "        if num < 0:\n",
    "            current_streak += 1\n",
    "            # if the current streak is longer than the longest streak, update the longest streak and its index\n",
    "            if current_streak > longest_streak:\n",
    "                longest_streak = current_streak\n",
    "#                 longest_streak_index = i - current_streak + 1\n",
    "                longest_streak_index = i \n",
    "        # if the current number is not negative, reset the current streak\n",
    "        else:\n",
    "            current_streak = 0\n",
    "\n",
    "    return [longest_streak, longest_streak_index]"
   ]
  },
  {
   "cell_type": "code",
   "execution_count": 68,
   "id": "b3069f0b",
   "metadata": {},
   "outputs": [],
   "source": [
    "def get_longest_freezing(max_dates, max_temps):\n",
    "    return [longest_streak(max_temps)[0], max_dates[longest_streak(max_temps)[1]]]"
   ]
  },
  {
   "cell_type": "code",
   "execution_count": 69,
   "id": "4530b98e",
   "metadata": {},
   "outputs": [
    {
     "data": {
      "text/plain": [
       "[21, '19470224']"
      ]
     },
     "execution_count": 69,
     "metadata": {},
     "output_type": "execute_result"
    }
   ],
   "source": [
    "get_longest_freezing(max_dates, max_temps)"
   ]
  }
 ],
 "metadata": {
  "kernelspec": {
   "display_name": "Python 3 (ipykernel)",
   "language": "python",
   "name": "python3"
  },
  "language_info": {
   "codemirror_mode": {
    "name": "ipython",
    "version": 3
   },
   "file_extension": ".py",
   "mimetype": "text/x-python",
   "name": "python",
   "nbconvert_exporter": "python",
   "pygments_lexer": "ipython3",
   "version": "3.9.12"
  }
 },
 "nbformat": 4,
 "nbformat_minor": 5
}

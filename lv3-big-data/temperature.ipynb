{
 "cells": [
  {
   "cell_type": "code",
   "execution_count": 1,
   "id": "a1cfb0d5",
   "metadata": {},
   "outputs": [],
   "source": [
    "def read_data(filename):\n",
    "\n",
    "    date = []\n",
    "    temp = []\n",
    "\n",
    "    with open(filename, 'r') as f:\n",
    "\n",
    "        lines = f.readlines()[19:]\n",
    "\n",
    "        for line in lines:\n",
    "            date.append(line.split(',')[2])\n",
    "            temp.append(int(line.split(',')[3]))\n",
    "    \n",
    "    return [date, temp]"
   ]
  },
  {
   "cell_type": "code",
   "execution_count": 2,
   "id": "b14c10ef",
   "metadata": {},
   "outputs": [],
   "source": [
    "max_dates, max_temps = read_data('DeBiltTempMaxOLD.txt')\n",
    "min_dates, min_temps = read_data('DeBiltTempMinOLD.txt')"
   ]
  },
  {
   "cell_type": "code",
   "execution_count": 3,
   "id": "3d8ed5fc",
   "metadata": {},
   "outputs": [],
   "source": [
    "def min_fct(ls):\n",
    "    min_ls = ls[0]\n",
    "    for i in range(1, len(ls)):\n",
    "        if ls[i] < min_ls:\n",
    "            min_ls = ls[i]\n",
    "    return min_ls\n",
    "\n",
    "def max_fct(ls):\n",
    "    max_ls = ls[0]\n",
    "    for i in range(1, len(ls)):\n",
    "        if ls[i] > max_ls:\n",
    "            max_ls = ls[i]\n",
    "    return max_ls"
   ]
  },
  {
   "cell_type": "code",
   "execution_count": 4,
   "id": "aa599697",
   "metadata": {},
   "outputs": [],
   "source": [
    "def get_highest_temp(max_dates, max_temps):\n",
    "    return [max_dates[max_temps.index(max_fct(max_temps))], max_fct(max_temps)]\n",
    "\n",
    "def get_lowest_temp(min_dates, min_temps):\n",
    "    return [min_dates[min_temps.index(min_fct(min_temps))], min_fct(min_temps)]"
   ]
  },
  {
   "cell_type": "code",
   "execution_count": 5,
   "id": "07fb39ca",
   "metadata": {},
   "outputs": [],
   "source": [
    "highest_temp_date, highest_temp = get_highest_temp(max_dates, max_temps)\n",
    "lowest_temp_date, lowest_temp = get_lowest_temp(min_dates, min_temps)"
   ]
  },
  {
   "cell_type": "code",
   "execution_count": 6,
   "id": "1f0be05e",
   "metadata": {},
   "outputs": [],
   "source": [
    "def longest_streak(lst):\n",
    "    # initialize variables to keep track of the current and longest streaks\n",
    "    current_streak = 0\n",
    "    longest_streak = 0\n",
    "    longest_streak_index = 0\n",
    "\n",
    "    # iterate through the list\n",
    "    for i, num in enumerate(lst):\n",
    "        # if the current number is negative, increment the current streak\n",
    "        if num < 0:\n",
    "            current_streak += 1\n",
    "            # if the current streak is longer than the longest streak, update the longest streak and its index\n",
    "            if current_streak > longest_streak:\n",
    "                longest_streak = current_streak\n",
    "#                 longest_streak_index = i - current_streak + 1\n",
    "                longest_streak_index = i \n",
    "        # if the current number is not negative, reset the current streak\n",
    "        else:\n",
    "            current_streak = 0\n",
    "\n",
    "    return [longest_streak, longest_streak_index]"
   ]
  },
  {
   "cell_type": "code",
   "execution_count": 7,
   "id": "b3069f0b",
   "metadata": {},
   "outputs": [],
   "source": [
    "def get_longest_freezing(max_dates, max_temps):\n",
    "    return [longest_streak(max_temps)[0], max_dates[longest_streak(max_temps)[1]]]"
   ]
  },
  {
   "cell_type": "code",
   "execution_count": 8,
   "id": "4530b98e",
   "metadata": {},
   "outputs": [
    {
     "data": {
      "text/plain": [
       "[21, '19470224']"
      ]
     },
     "execution_count": 8,
     "metadata": {},
     "output_type": "execute_result"
    }
   ],
   "source": [
    "get_longest_freezing(max_dates, max_temps)"
   ]
  },
  {
   "cell_type": "code",
   "execution_count": 9,
   "id": "bc6cc25c",
   "metadata": {},
   "outputs": [],
   "source": [
    "import pandas as pd"
   ]
  },
  {
   "cell_type": "code",
   "execution_count": 10,
   "id": "cd76134c",
   "metadata": {},
   "outputs": [],
   "source": [
    "df = pd.DataFrame(list(zip(max_dates, max_temps)), columns=['max_dates', 'max_temps'])"
   ]
  },
  {
   "cell_type": "code",
   "execution_count": 12,
   "id": "052c0d66",
   "metadata": {},
   "outputs": [],
   "source": [
    "df['year'] = df.max_dates.apply(lambda x: x[0:4])"
   ]
  },
  {
   "cell_type": "code",
   "execution_count": 19,
   "id": "97cfa35e",
   "metadata": {},
   "outputs": [
    {
     "data": {
      "text/plain": [
       "26"
      ]
     },
     "execution_count": 19,
     "metadata": {},
     "output_type": "execute_result"
    }
   ],
   "source": [
    "sum(df.max_temps[df.year == \"1901\"] >= 250)"
   ]
  },
  {
   "cell_type": "code",
   "execution_count": 28,
   "id": "de7bec16",
   "metadata": {},
   "outputs": [],
   "source": [
    "df_summer = pd.DataFrame()\n",
    "\n",
    "for year in df.year.unique().tolist():\n",
    "    summer_days = sum(df.max_temps[df.year == year] >= 250)\n",
    "    \n",
    "    df_dummy = pd.DataFrame({'year': year, 'summer_days': summer_days}, index=[0])\n",
    "    \n",
    "    df_summer = pd.concat([df_summer, df_dummy])"
   ]
  },
  {
   "cell_type": "code",
   "execution_count": 32,
   "id": "9f45bba6",
   "metadata": {},
   "outputs": [],
   "source": [
    "df_tropical = pd.DataFrame()\n",
    "\n",
    "for year in df.year.unique().tolist():\n",
    "    tropical_days = sum(df.max_temps[df.year == year] >= 300)\n",
    "    \n",
    "    df_dummy = pd.DataFrame({'year': year, 'tropical_days': tropical_days}, index=[0])\n",
    "    \n",
    "    df_tropical = pd.concat([df_tropical, df_dummy])"
   ]
  },
  {
   "cell_type": "code",
   "execution_count": 36,
   "id": "913147cd",
   "metadata": {},
   "outputs": [
    {
     "data": {
      "image/png": "[encoded data removed]",
      "text/plain": [
       "<Figure size 432x288 with 1 Axes>"
      ]
     },
     "metadata": {
      "needs_background": "light"
     },
     "output_type": "display_data"
    }
   ],
   "source": [
    "import matplotlib.pyplot as plt\n",
    "\n",
    "plt.title('summer days')\n",
    "plt.xlabel('year')\n",
    "plt.ylabel('summer days')\n",
    "plt.bar(df_summer.year, df_summer.summer_days)\n",
    "\n",
    "plt.show()"
   ]
  },
  {
   "cell_type": "code",
   "execution_count": 37,
   "id": "778b4abe",
   "metadata": {},
   "outputs": [
    {
     "data": {
      "image/png": "[encoded data removed]",
      "text/plain": [
       "<Figure size 432x288 with 1 Axes>"
      ]
     },
     "metadata": {
      "needs_background": "light"
     },
     "output_type": "display_data"
    }
   ],
   "source": [
    "import matplotlib.pyplot as plt\n",
    "\n",
    "plt.title('tropical days')\n",
    "plt.xlabel('year')\n",
    "plt.ylabel('tropical days')\n",
    "plt.bar(df_tropical.year, df_tropical.tropical_days)\n",
    "\n",
    "plt.show()"
   ]
  },
  {
   "cell_type": "code",
   "execution_count": 48,
   "id": "0dabad5c",
   "metadata": {},
   "outputs": [],
   "source": [
    "def check_consecutive_numbers(numbers):\n",
    "  # Check if 5 consecutive numbers are higher than 250\n",
    "    for i in range(len(numbers) - 4):\n",
    "        if all(numbers[i + j] >= 250 for j in range(5)):\n",
    "            return i\n",
    "\n",
    "  # Check if 3 consecutive numbers are higher than 300\n",
    "    for i in range(len(numbers) - 2):\n",
    "        if all(numbers[i + j] >= 300 for j in range(3)):\n",
    "            return i\n",
    "\n",
    "    return 'Not found'"
   ]
  },
  {
   "cell_type": "code",
   "execution_count": 49,
   "id": "bccd6850",
   "metadata": {},
   "outputs": [
    {
     "data": {
      "text/plain": [
       "'19010716'"
      ]
     },
     "execution_count": 49,
     "metadata": {},
     "output_type": "execute_result"
    }
   ],
   "source": [
    "max_dates[check_consecutive_numbers(max_temps)]"
   ]
  }
 ],
 "metadata": {
  "kernelspec": {
   "display_name": "Python 3 (ipykernel)",
   "language": "python",
   "name": "python3"
  },
  "language_info": {
   "codemirror_mode": {
    "name": "ipython",
    "version": 3
   },
   "file_extension": ".py",
   "mimetype": "text/x-python",
   "name": "python",
   "nbconvert_exporter": "python",
   "pygments_lexer": "ipython3",
   "version": "3.9.12"
  }
 },
 "nbformat": 4,
 "nbformat_minor": 5
}
